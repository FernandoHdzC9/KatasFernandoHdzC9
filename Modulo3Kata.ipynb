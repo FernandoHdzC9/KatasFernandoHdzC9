{
 "cells": [
  {
   "cell_type": "markdown",
   "metadata": {},
   "source": [
    "## Advertencia de un asteroide \n",
    "Advertencia de aproximacion de un asteroide al presentar velocidades superiores a los 25 Km/s"
   ]
  },
  {
   "cell_type": "code",
   "execution_count": 6,
   "metadata": {},
   "outputs": [
    {
     "name": "stdout",
     "output_type": "stream",
     "text": [
      "¡ADEVERTENCIA! ASTEROIDE DETECTADO\n",
      "Velocidad deL asteroide: 49 Km/s\n"
     ]
    }
   ],
   "source": [
    "Veloci = 49               #km/s\n",
    "VelociKm = 49*1000        #m/seg\n",
    "VelociCritica = 25*1000   #m/seg\n",
    "\n",
    "if VelociKm >= VelociCritica:\n",
    "    print('¡ADEVERTENCIA! ASTEROIDE DETECTADO')\n",
    "    print('Velocidad del asteroide: '+ str(Veloci) +' Km/s')\n",
    "\n",
    "elif VelociKm < VelociCritica:\n",
    "    print('El asteroide no representa una amenaza')\n"
   ]
  },
  {
   "cell_type": "markdown",
   "metadata": {},
   "source": [
    "## Adevertencia de visibilidad de un asteroide\n",
    "Si la velocidad es igual o superior a 20Km/s existe la posibilidad de observar un rayo de luz producido por el mismo asteroide al ingresar a la admosfera"
   ]
  },
  {
   "cell_type": "code",
   "execution_count": 20,
   "metadata": {},
   "outputs": [
    {
     "name": "stdout",
     "output_type": "stream",
     "text": [
      "Ingrese velocidad del asteroide detectado en km/s\n",
      "\tNo es posible observar el asteroide\n",
      "\t   debido a su baja velocidad\n",
      "\tVelocidad del asteroide: 15 Km/s\n"
     ]
    }
   ],
   "source": [
    "print('Ingrese velocidad del asteroide detectado en km/s')\n",
    "Vel=input('Velocidad ') #ingresa la velocidad\n",
    "Vel=int(Vel)            #Conversion de estring a int\n",
    "\n",
    "if Vel >= 20:\n",
    "    print('¡ALERTA! Visibilidad de asteroide confirmada')\n",
    "    print('Velocidad del asteroide: '+ str(Vel) +' Km/s')\n",
    "    \n",
    "else:\n",
    "    print('\\tNo es posible observar el asteroide\\n\\t   debido a su baja velocidad')\n",
    "    print('\\tVelocidad del asteroide: '+ str(Vel) +' Km/s')\n"
   ]
  },
  {
   "cell_type": "markdown",
   "metadata": {},
   "source": [
    "## Adevertencia de amenaza\n",
    "Para determinar si un asteroide representa una amenaza, dependera de el tamaño"
   ]
  },
  {
   "cell_type": "code",
   "execution_count": 1,
   "metadata": {},
   "outputs": [
    {
     "name": "stdout",
     "output_type": "stream",
     "text": [
      "¡ALERTA! Asteroide de gran tamaño a velocidad critica\n",
      "\t\t AMENAZA INMINENTE\n",
      "\tVelocidad del asteroide: 25 Km/s\n",
      "\t  Tamaño del asteroide: 30 metros\n"
     ]
    }
   ],
   "source": [
    "tamaño = 30     # Dimension del asteroide en metros\n",
    "Vel = 25        # Velocidad en Km/s\n",
    "tamSeguro = 25  # Dimension del asteroide en metros\n",
    "VelCritica = 25 # Velocidad en Km/s\n",
    "\n",
    "if Vel >= 20 and Vel < VelCritica:\n",
    "    if tamaño < tamSeguro:\n",
    "        print('Asteroide inofensivo detectado')   #visible y pequeño No Amenaza\n",
    "    else:\n",
    "        print('¡ALERTA! Asteroide de gran tamaño detectado')   #visible y grande Si Amenaza\n",
    "    \n",
    "elif Vel >= VelCritica:\n",
    "    if tamaño <= tamSeguro:\n",
    "        print('¡ALERTA! Asteroide pequeño a velocidad critica')   #Amenaza Pequeña\n",
    "    else:\n",
    "        print('¡ALERTA! Asteroide de gran tamaño a velocidad critica')   #Amenaza Grande\n",
    "        print('\\t\\t AMENAZA INMINENTE')\n",
    "else:\n",
    "    print('\\tNo es posible observar el asteroide\\n\\t   debido a su baja velocidad')\n",
    "    if tamaño <= tamSeguro:\n",
    "        print('\\tNo presneta amenaza debido a su tamaño')   #no visible y pequeño\n",
    "    else:\n",
    "        print('\\tAmenaza de daños considerables')   #No visible y Grande\n",
    "\n",
    "print('\\tVelocidad del asteroide: '+ str(Vel) +' Km/s')\n",
    "print('\\t  Tamaño del asteroide: '+ str(tamaño) +' metros')\n"
   ]
  }
 ],
 "metadata": {
  "interpreter": {
   "hash": "669f5abd92f1a410df15b0643b9f42360e277a412fc08ae8bc7d7911cf7e8f3d"
  },
  "kernelspec": {
   "display_name": "Python 3.10.2 64-bit",
   "language": "python",
   "name": "python3"
  },
  "language_info": {
   "codemirror_mode": {
    "name": "ipython",
    "version": 3
   },
   "file_extension": ".py",
   "mimetype": "text/x-python",
   "name": "python",
   "nbconvert_exporter": "python",
   "pygments_lexer": "ipython3",
   "version": "3.10.2"
  },
  "orig_nbformat": 4
 },
 "nbformat": 4,
 "nbformat_minor": 2
}
