{
 "cells": [
  {
   "cell_type": "markdown",
   "metadata": {},
   "source": [
    "## Ejercicio 1\n",
    "Distancia entre dos planetas"
   ]
  },
  {
   "cell_type": "code",
   "execution_count": 7,
   "metadata": {},
   "outputs": [
    {
     "name": "stdout",
     "output_type": "stream",
     "text": [
      "La distancia entre el planeta Tierra y Jupiter es:\n",
      "Kilometros: 628949330\n",
      "Millas:     390577533.93 \n"
     ]
    }
   ],
   "source": [
    "dtierra = 149597870   #distancia al sol en km\n",
    "djupiter = 778547200  #distancia al sol en km\n",
    "DistanciaKm = djupiter - dtierra #Distancia entre planetas\n",
    "DistanciaMill = DistanciaKm * 0.621\n",
    "mensaje = f\"\"\"La distancia entre el planeta Tierra y Jupiter es:\n",
    "Kilometros: {DistanciaKm}\n",
    "Millas:     {DistanciaMill} \"\"\"\n",
    "print(mensaje)"
   ]
  },
  {
   "cell_type": "markdown",
   "metadata": {},
   "source": [
    "## Ejercicio 2\n",
    "Crear una aplicación para trabajar con números y entrada de usuario:\n"
   ]
  },
  {
   "cell_type": "code",
   "execution_count": 17,
   "metadata": {},
   "outputs": [
    {
     "name": "stdout",
     "output_type": "stream",
     "text": [
      "ingrese distancia 1 en km\n",
      "51515 Km\n",
      "ingrese distancia 2 en km\n",
      "561951 Km\n",
      "La distancia entre planetas es: 46000 Km\n"
     ]
    }
   ],
   "source": [
    "print('Ingrese distancia 1 en Km')\n",
    "d1 = input('Distanica Planeta 1')   #distancia al sol en km\n",
    "print(f'{d1} Km')\n",
    "\n",
    "print('Ingrese distancia 2 en Km')\n",
    "print(f'{d2} Km')\n",
    "\n",
    "d2 = input('Distanica Planeta 1')  #distancia al sol en km\n",
    "Dd = abs(int(d1) - int(d2))\n",
    "print(f'La distancia entre planetas es: {Dd} Km')"
   ]
  }
 ],
 "metadata": {
  "interpreter": {
   "hash": "669f5abd92f1a410df15b0643b9f42360e277a412fc08ae8bc7d7911cf7e8f3d"
  },
  "kernelspec": {
   "display_name": "Python 3.10.2 64-bit",
   "language": "python",
   "name": "python3"
  },
  "language_info": {
   "codemirror_mode": {
    "name": "ipython",
    "version": 3
   },
   "file_extension": ".py",
   "mimetype": "text/x-python",
   "name": "python",
   "nbconvert_exporter": "python",
   "pygments_lexer": "ipython3",
   "version": "3.10.2"
  },
  "orig_nbformat": 4
 },
 "nbformat": 4,
 "nbformat_minor": 2
}
