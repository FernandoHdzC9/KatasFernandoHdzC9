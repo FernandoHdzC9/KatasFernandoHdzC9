{
 "cells": [
  {
   "cell_type": "markdown",
   "metadata": {},
   "source": [
    "# Ejercicio 1: Crear y usar listas de Python\n"
   ]
  },
  {
   "cell_type": "markdown",
   "metadata": {},
   "source": [
    "## "
   ]
  },
  {
   "cell_type": "code",
   "execution_count": 10,
   "metadata": {},
   "outputs": [
    {
     "name": "stdout",
     "output_type": "stream",
     "text": [
      "Planetas sin pluton:  ['Mercurio', 'Venus', 'Tierra', 'Marte', 'Jupiter', 'Saturno', 'Urano', 'Neptuno']\n",
      "Planetas incluyendo a pluton:  ['Mercurio', 'Venus', 'Tierra', 'Marte', 'Jupiter', 'Saturno', 'Urano', 'Neptuno', 'Pluton']\n"
     ]
    }
   ],
   "source": [
    "Planetas=['Mercurio','Venus','Tierra','Marte','Jupiter','Saturno','Urano','Neptuno']\n",
    "print('Planetas sin pluton: ',Planetas)\n",
    "Planetas.append('Pluton')\n",
    "print('Planetas incluyendo a pluton: ',Planetas)\n"
   ]
  },
  {
   "cell_type": "markdown",
   "metadata": {},
   "source": [
    "# Ejercicio 2: Trabajando con datos de una lista\n"
   ]
  },
  {
   "cell_type": "code",
   "execution_count": 19,
   "metadata": {},
   "outputs": [
    {
     "name": "stdout",
     "output_type": "stream",
     "text": [
      "¿Que planeta desea consultar?\n",
      "El planeta jupiter se encuentra en la posicion 4 de la lista\n",
      "Los planetas mas proximos al sol antes que jupiter son:\n",
      "['Mercurio', 'Venus', 'Tierra', 'Marte']\n",
      "Mientras que los mas alejados al sol despues de jupiter son:\n",
      "['Jupiter', 'Saturno', 'Urano', 'Neptuno']\n"
     ]
    }
   ],
   "source": [
    "        #Lista de planetas\n",
    "Planetas=['Mercurio','Venus','Tierra','Marte','Jupiter','Saturno','Urano','Neptuno']\n",
    "print('¿Que planeta desea consultar?')\n",
    "\n",
    "        #Solicita el nombre del planeta a buscar\n",
    "Busqueda = input('Ingrese planeta a buscar')\n",
    "posicion = Planetas.index(Busqueda.title())\n",
    "         #Imprime el mesaje del planeta buscado y su posicion en la ista\n",
    "print(f\"\"\"El planeta {Busqueda} se encuentra en la posicion {posicion} de la lista\"\"\")\n",
    "\n",
    "         #Mostrar planetas más cercanos al sol que el que el usuario ingresó\n",
    "print(f\"\"\"Los planetas mas proximos al sol antes que {Busqueda} son:\n",
    "{Planetas[0:posicion]}\"\"\")\n",
    "print(f\"\"\"Mientras que los mas alejados al sol despues de {Busqueda} son:\n",
    "{Planetas[posicion:]}\"\"\")\n",
    "\n",
    "\n"
   ]
  }
 ],
 "metadata": {
  "interpreter": {
   "hash": "669f5abd92f1a410df15b0643b9f42360e277a412fc08ae8bc7d7911cf7e8f3d"
  },
  "kernelspec": {
   "display_name": "Python 3.10.2 64-bit",
   "language": "python",
   "name": "python3"
  },
  "language_info": {
   "codemirror_mode": {
    "name": "ipython",
    "version": 3
   },
   "file_extension": ".py",
   "mimetype": "text/x-python",
   "name": "python",
   "nbconvert_exporter": "python",
   "pygments_lexer": "ipython3",
   "version": "3.10.2"
  },
  "orig_nbformat": 4
 },
 "nbformat": 4,
 "nbformat_minor": 2
}
