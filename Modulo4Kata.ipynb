{
 "cells": [
  {
   "cell_type": "markdown",
   "metadata": {},
   "source": [
    "## Ejercicio 1"
   ]
  },
  {
   "cell_type": "code",
   "execution_count": 33,
   "metadata": {},
   "outputs": [
    {
     "name": "stdout",
     "output_type": "stream",
     "text": [
      " there are several interesting facts about the moon and how it affects life here on earth\n",
      "on average, the moon moves 40mm away from the earth every year\n"
     ]
    }
   ],
   "source": [
    "text =  \"\"\"Interesting facts about the Moon. The Moon is Earth's only satellite. There are several interesting facts about the Moon and how it affects life here on Earth. \n",
    "On average, the Moon moves 4cm away from the Earth every year. This yearly drift is not significant enough to cause immediate effects on Earth.\"\"\".replace('4cm','40mm')\n",
    "textlow=text.lower()\n",
    "textln=textlow.split('\\n') # DIbide el parrafo en dos debido a que solo tiene un salto de linea\n",
    "sentence1=textln[0]        #primer parte de texto\n",
    "sentence2=textln[-1]       #segunda parte del texto\n",
    "i=0\n",
    "\n",
    "if sentence1.find('affects') or sentence1.find('moves'): # #Si se encuentran las palabras 'affects' o 'moves' en la horacion se ejecuta lo siguiente\n",
    "    for item in sentence1.split('.'):                           # Hace un barrido del arreglo y divide el arreglo si encuentra un '.'. si encuentra el '.' se ejecuta el ciclo for\n",
    "        i=i+1                                                   # Cuenta en que parte del arreglo se encuentra el cilclo for\n",
    "        if sentence1.find('affects')or sentence1.find('moves'): #Si se encuentran las palabras 'affects' o 'moves' se ejecuta lo siguiente\n",
    "            important=sentence1.split('.')                      # Divide la cadena de caracteres cada que hay un  '.'\n",
    "            print(important[i+1])   # Imprime las palabras que se encuentran en la casilla correspondiente a la division generada por .split('.')\n",
    "            i=0                                               \n",
    "            break   #Sale del ciclo for al terminar las instrucciones del \"if\"\n",
    "\n",
    "if sentence2.find('affects') or sentence2.find('moves'):\n",
    "    for item in sentence2.split('.'):\n",
    "        i=i+1\n",
    "        if sentence2.find('affects') or sentence2.find('moves'): #Si se encuentran las palabras 'affects' o 'moves' se ejecuta lo siguiente\n",
    "            important2=sentence2.split('.')                      # Divide la cadena de caracteres cada que hay un  '.'\n",
    "            print(important2[i-1])  # Imprime las palabras que se encuentran en la casilla correspondiente a la division generada por .split('.')\n",
    "            i=0\n",
    "            break       #Sale del ciclo for al terminar las instrucciones del \"if\"\n",
    "\n",
    "            \n",
    "\n"
   ]
  },
  {
   "cell_type": "markdown",
   "metadata": {},
   "source": [
    "## Ejercicio 2"
   ]
  },
  {
   "cell_type": "code",
   "execution_count": 32,
   "metadata": {},
   "outputs": [
    {
     "name": "stdout",
     "output_type": "stream",
     "text": [
      "\t\tLa Gravedad De La Luna\n",
      "------------------------------------------------------------\n",
      "La Luna del planeta Marte es un satelite natural.\n",
      "La gravedad de la Luna es distinta a la del planeta Marte.\n",
      "La Luna cuenta con una gravedad de 1.43 m/s\n"
     ]
    }
   ],
   "source": [
    "#Datos a utilizar\n",
    "name = \"Luna\"\n",
    "gravity = 0.00143       #in Km/s\n",
    "planet =\"Marte\"\n",
    "titulo = \"La gravedad de la luna\"\n",
    "#Estructura del codigo\n",
    "g = gravity * 1000    # m/seg\n",
    "#PLantilla del articulo\n",
    "texto = f\"\"\"\\t\\t{titulo.title()}\\n{'-'*60}\\nLa {name} del planeta {planet} es un satelite natural.\n",
    "La gravedad de la {name} es distinta a la del planeta {planet}.\n",
    "La {name} cuenta con una gravedad de {round(g,2)} m/s\"\"\"\n",
    "\n",
    "print(texto)\n",
    "\n",
    "# {'-'*60}   Genera la repeticion de \"-\" para pintar una linea debajo del titulo\n",
    "# {titulo.title()} Imprime la variable \"titulo\" con unformato de titulo para el texto\n",
    "# {round(g,2)} --> round lo que hace es redondear un numero con decimales. en este caso se especifica que sea a 2 decimales\n",
    "# {name} en esta posicion se colocara el texto (cadena de caracteres) almacenado en la variable \"name\""
   ]
  }
 ],
 "metadata": {
  "interpreter": {
   "hash": "669f5abd92f1a410df15b0643b9f42360e277a412fc08ae8bc7d7911cf7e8f3d"
  },
  "kernelspec": {
   "display_name": "Python 3.10.2 64-bit",
   "language": "python",
   "name": "python3"
  },
  "language_info": {
   "codemirror_mode": {
    "name": "ipython",
    "version": 3
   },
   "file_extension": ".py",
   "mimetype": "text/x-python",
   "name": "python",
   "nbconvert_exporter": "python",
   "pygments_lexer": "ipython3",
   "version": "3.10.2"
  },
  "orig_nbformat": 4
 },
 "nbformat": 4,
 "nbformat_minor": 2
}
