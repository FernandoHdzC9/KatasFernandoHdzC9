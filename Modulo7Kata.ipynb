{
 "cells": [
  {
   "cell_type": "markdown",
   "metadata": {},
   "source": [
    "## Ejercicio 1: Creación de un bucle \"while\"\n",
    "##                  y\n",
    "## Ejercicio 2: Creación de un ciclo \"for\""
   ]
  },
  {
   "cell_type": "code",
   "execution_count": 28,
   "metadata": {},
   "outputs": [
    {
     "name": "stdout",
     "output_type": "stream",
     "text": [
      "Added:  Mercurio\n",
      "Added:  Venus\n",
      "Added:  Tierra\n",
      "Added:  Marte\n",
      "Added:  Piter\n",
      "Listado de planetas:\n",
      "Mercurio\n",
      "venus\n",
      "tierra\n",
      "marte\n",
      "piter\n"
     ]
    }
   ],
   "source": [
    "# Creamos la lista que almacenan los planetas ingresados\n",
    "planets = []\n",
    "# Creamos la variable que recibe los datos ingresados por el usuario\n",
    "new_planet = ''\n",
    "\n",
    "# Ciclo while\n",
    "while new_planet.lower() != 'done':\n",
    "    # Verificamos si hay un valor en user_input\n",
    "    if new_planet:\n",
    "        # Almacenamos ese valor en la lista\n",
    "        planets.append(new_planet)\n",
    "        print('Ajudded: ', new_planet.title())\n",
    "        # Capturamos un nuevo planeta\n",
    "    new_planet = input('Enter a planet, or done when done')\n",
    "    \n",
    "    #Una vez terminado de ingresar valore mmuestra la lista completa\n",
    "    # y saale del bucle\n",
    "    if new_planet.lower() == 'done':\n",
    "        print('Listado de planetas:')\n",
    "        for number in planets:\n",
    "           print(number)\n",
    "           \n",
    "        \n"
   ]
  }
 ],
 "metadata": {
  "interpreter": {
   "hash": "669f5abd92f1a410df15b0643b9f42360e277a412fc08ae8bc7d7911cf7e8f3d"
  },
  "kernelspec": {
   "display_name": "Python 3.10.2 64-bit",
   "language": "python",
   "name": "python3"
  },
  "language_info": {
   "codemirror_mode": {
    "name": "ipython",
    "version": 3
   },
   "file_extension": ".py",
   "mimetype": "text/x-python",
   "name": "python",
   "nbconvert_exporter": "python",
   "pygments_lexer": "ipython3",
   "version": "3.10.2"
  },
  "orig_nbformat": 4
 },
 "nbformat": 4,
 "nbformat_minor": 2
}
